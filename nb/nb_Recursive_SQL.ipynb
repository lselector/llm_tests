{
 "cells": [
  {
   "cell_type": "markdown",
   "id": "9f5f3bb8",
   "metadata": {},
   "source": [
    "## Using ChatGPT to design a recursive MySQL Query"
   ]
  },
  {
   "cell_type": "markdown",
   "id": "111cbb1b",
   "metadata": {},
   "source": [
    "```\n",
    "prompt:\n",
    "write mysql recursive sql query for a table \n",
    "with columns id, name, type, parent_id, parent_name, parent_type \n",
    "sorted so that children go right under their parents\n",
    "```"
   ]
  },
  {
   "cell_type": "raw",
   "id": "bf4807bb",
   "metadata": {},
   "source": [
    "CREATE TABLE my_table (\n",
    "  id INT NOT NULL,\n",
    "  name VARCHAR(50) NOT NULL,\n",
    "  type VARCHAR(50) NOT NULL,\n",
    "  parent_id INT,\n",
    "  parent_name VARCHAR(50),\n",
    "  parent_type VARCHAR(50),\n",
    "  PRIMARY KEY (id)\n",
    ");\n",
    "\n",
    "WITH RECURSIVE tree AS (\n",
    "  SELECT id, name, type, parent_id, parent_name, parent_type, 0 AS level\n",
    "  FROM my_table\n",
    "  WHERE parent_id IS NULL\n",
    "  UNION ALL\n",
    "  SELECT t.id, t.name, t.type, t.parent_id, t.parent_name, t.parent_type, level + 1\n",
    "  FROM my_table t\n",
    "  INNER JOIN tree ON t.parent_id = tree.id\n",
    ")\n",
    "SELECT id, name, type, parent_id, parent_name, parent_type, level\n",
    "FROM tree\n",
    "ORDER BY COALESCE(parent_name, name), parent_id IS NULL, level, name;"
   ]
  },
  {
   "cell_type": "markdown",
   "id": "7a125b72",
   "metadata": {},
   "source": [
    "## Can we do the same with window function?"
   ]
  },
  {
   "cell_type": "raw",
   "id": "defd88a4",
   "metadata": {},
   "source": [
    "SELECT id, name, type, parent_id, parent_name, parent_type, level\n",
    "FROM (\n",
    "  WITH RECURSIVE tree AS (\n",
    "    SELECT id, name, type, parent_id, parent_name, parent_type, 0 AS level\n",
    "    FROM my_table\n",
    "    WHERE parent_id IS NULL\n",
    "    UNION ALL\n",
    "    SELECT t.id, t.name, t.type, t.parent_id, t.parent_name, t.parent_type, level + 1\n",
    "    FROM my_table t\n",
    "    INNER JOIN tree ON t.parent_id = tree.id\n",
    "  )\n",
    "  SELECT id, name, type, parent_id, parent_name, parent_type, level,\n",
    "         ROW_NUMBER() OVER (\n",
    "           PARTITION BY COALESCE(parent_name, name)\n",
    "           ORDER BY name\n",
    "         ) AS rank\n",
    "  FROM tree\n",
    ") subquery\n",
    "ORDER BY COALESCE(parent_name, name), parent_id IS NULL, level, rank;"
   ]
  },
  {
   "cell_type": "markdown",
   "id": "ee09bdfb",
   "metadata": {},
   "source": [
    "## Corrections:\n",
    "\n",
    "- sort by name, not by id\n",
    "- add column \"client_id\" to the table.\n",
    "- select tree only for a specific client_id\n",
    "- do NOT use window function\n",
    "- use the word \"mytree\"\n",
    "- add a column to the output containing the name indented according to the \"level\"\n",
    "- put this SQL into a stored procedure accepting one argument for client_id and show example of how to invoke this stored procedure from SQL and from Python"
   ]
  },
  {
   "cell_type": "raw",
   "id": "a333fa21",
   "metadata": {},
   "source": [
    "DELIMITER //\n",
    "\n",
    "CREATE PROCEDURE mytree_by_client(IN client_id INT)\n",
    "BEGIN\n",
    "  WITH RECURSIVE mytree AS (\n",
    "    SELECT id, name, type, parent_id, parent_name, parent_type, client_id, 0 AS level\n",
    "    FROM my_table\n",
    "    WHERE parent_id IS NULL AND client_id = client_id\n",
    "    UNION ALL\n",
    "    SELECT t.id, t.name, t.type, t.parent_id, t.parent_name, t.parent_type, t.client_id, level + 1\n",
    "    FROM my_table t\n",
    "    INNER JOIN mytree ON t.parent_id = mytree.id\n",
    "    WHERE t.client_id = client_id\n",
    "  )\n",
    "  SELECT id, LPAD('', level, '  ') || name AS indented_name, type, parent_id, parent_name, parent_type, level\n",
    "  FROM mytree\n",
    "  ORDER BY COALESCE(parent_name, name), parent_id IS NULL, level, name;\n",
    "END//\n",
    "\n",
    "DELIMITER ;\n",
    "\n",
    "\n",
    "CALL mytree_by_client(123);"
   ]
  },
  {
   "cell_type": "raw",
   "id": "8d2ae801",
   "metadata": {},
   "source": [
    "# calling from Python:\n",
    "\n",
    "mycursor = mydb.cursor()\n",
    "\n",
    "# call the stored procedure with a specific client_id\n",
    "client_id = 123\n",
    "mycursor.callproc(\"mytree_by_client\", [client_id])\n",
    "\n",
    "# fetch all the rows returned by the stored procedure\n",
    "result = mycursor.fetchall()"
   ]
  },
  {
   "cell_type": "markdown",
   "id": "a34b3fe1",
   "metadata": {},
   "source": [
    "### Final version (after manual tuning)"
   ]
  },
  {
   "cell_type": "raw",
   "id": "443474d9",
   "metadata": {},
   "source": [
    "DROP PROCEDURE dimentions_by_client;\n",
    "CREATE PROCEDURE dimentions_by_client(IN cl_id BIGINT)\n",
    "BEGIN\n",
    "    WITH RECURSIVE cte AS (\n",
    "        SELECT \n",
    "            dim_id, dim_name, dim_type, \n",
    "            parent_id, disp_name, dim_code, \n",
    "            client_id, \n",
    "            0 AS mylevel,\n",
    "            CAST(CONCAT(dim_type,\"~~\",dim_name) AS CHAR(200)) AS dpath,\n",
    "            CAST(CONCAT(dim_id) AS CHAR(200)) AS idpath\n",
    "        FROM client_dimentions\n",
    "        WHERE parent_id = 0 \n",
    "        AND is_active = 1 \n",
    "        AND client_id = cl_id\n",
    "\n",
    "        UNION ALL\n",
    "\n",
    "        SELECT \n",
    "            t.dim_id, t.dim_name, t.dim_type, \n",
    "            t.parent_id, t.disp_name, t.dim_code, \n",
    "            t.client_id, \n",
    "            mylevel + 1 as mylevel,\n",
    "            CONCAT(cte.dpath, \"~~~\", t.dim_type, \"~~\", t.dim_name),\n",
    "            CONCAT(cte.idpath, \"_\", t.dim_id)\n",
    "        FROM client_dimentions t\n",
    "        INNER JOIN cte ON t.parent_id = cte.dim_id\n",
    "        WHERE t.is_active = 1 AND t.client_id = cl_id\n",
    "    )\n",
    "\n",
    "    SELECT \n",
    "        dim_id, parent_id, dim_type, dim_name, \n",
    "        disp_name, dim_code, idpath,\n",
    "        REPLACE( REPLACE(dpath,\"~~~\",\"->\"), \"~~\",\":\") as 'path'\n",
    "    FROM cte\n",
    "    ORDER BY dpath;\n",
    "END;"
   ]
  },
  {
   "cell_type": "code",
   "execution_count": null,
   "id": "2650b67f",
   "metadata": {},
   "outputs": [],
   "source": []
  }
 ],
 "metadata": {
  "kernelspec": {
   "display_name": "Python 3 (ipykernel)",
   "language": "python",
   "name": "python3"
  },
  "language_info": {
   "codemirror_mode": {
    "name": "ipython",
    "version": 3
   },
   "file_extension": ".py",
   "mimetype": "text/x-python",
   "name": "python",
   "nbconvert_exporter": "python",
   "pygments_lexer": "ipython3",
   "version": "3.9.12"
  }
 },
 "nbformat": 4,
 "nbformat_minor": 5
}
