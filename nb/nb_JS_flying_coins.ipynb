{
 "cells": [
  {
   "cell_type": "markdown",
   "id": "227c86d4",
   "metadata": {},
   "source": [
    "### ChatGPT writing Javascript animation of falling crypto-coins"
   ]
  },
  {
   "cell_type": "raw",
   "id": "7de8bb79",
   "metadata": {},
   "source": [
    "```\n",
    "Prompts:\n",
    "- write javascript animation of snowflakes falling down\n",
    "- change the code to show crypto coins instead of snowflakes. Make background white.\n",
    "- change the general direction of falling - make it at 45 degree angle\n",
    "- change the canvas to fill all window and resize when window is resized\n",
    "- update the code to keep the total number of coins less than 40. Keep removing old coins using logic \"first in first out\" to maintain the total number of coins at 40.\n",
    "- The animation gets slow when number of coins increase. Write a more optimized code which can handle more coins.\n",
    "```"
   ]
  },
  {
   "cell_type": "markdown",
   "id": "6ba11da3",
   "metadata": {},
   "source": [
    "### HTML:"
   ]
  },
  {
   "cell_type": "raw",
   "id": "4f39c5bd",
   "metadata": {},
   "source": [
    "<!DOCTYPE html>\n",
    "<html>\n",
    "  <head>\n",
    "    <meta charset=\"UTF-8\">\n",
    "    <title>Crypto Coin Animation</title>\n",
    "    <style>\n",
    "      body {\n",
    "        margin: 0;\n",
    "        padding: 0;\n",
    "        background-color: #fff;\n",
    "      }\n",
    "      canvas {\n",
    "        display: block;\n",
    "        position: absolute;\n",
    "        top: 0;\n",
    "        left: 0;\n",
    "      }\n",
    "    </style>\n",
    "  </head>\n",
    "  <body>\n",
    "    <canvas id=\"canvas\"></canvas>\n",
    "    <script src=\"coinfall.js\"></script>\n",
    "  </body>\n",
    "</html>\n"
   ]
  },
  {
   "cell_type": "markdown",
   "id": "8b76c6e0",
   "metadata": {},
   "source": [
    "### javascript:"
   ]
  },
  {
   "cell_type": "raw",
   "id": "9872ff8e",
   "metadata": {},
   "source": [
    "// Define the canvas\n",
    "var canvas = document.getElementById('canvas');\n",
    "var ctx = canvas.getContext('2d');\n",
    "\n",
    "// Set the canvas dimensions to fill the entire window\n",
    "canvas.width = window.innerWidth;\n",
    "canvas.height = window.innerHeight;\n",
    "\n",
    "// Create a pool of coin objects\n",
    "var coinPool = [];\n",
    "for (var i = 0; i < 40; i++) {\n",
    "  coinPool.push(new Coin());\n",
    "}\n",
    "\n",
    "// Define the Coin class\n",
    "function Coin() {\n",
    "  // Set the initial position of the coin to a random x value\n",
    "  this.x = Math.random() * canvas.width;\n",
    "  // Set the initial position of the coin to a random y value off-screen\n",
    "  this.y = Math.random() * -canvas.height;\n",
    "  // Set the size of the coin to a random value\n",
    "  this.size = Math.random() * 30 + 10;\n",
    "  // Set the speed of the coin to a random value\n",
    "  this.speed = Math.random() * 2 + 1;\n",
    "  // Set the angle of the coin to 45 degrees\n",
    "  this.angle = Math.PI / 4;\n",
    "  // Set the image of the coin to a random cryptocurrency logo\n",
    "  var coinsImg = ['btc.png', 'eth.png', 'ada.png', 'bnb.png', 'dot.png', 'xrp.png'];\n",
    "  this.image = new Image();\n",
    "  this.image.src = coinsImg[Math.floor(Math.random() * coinsImg.length)];\n",
    "}\n",
    "\n",
    "// Define the update function for the Coin class\n",
    "Coin.prototype.update = function() {\n",
    "  // Move the coin down by its speed and at a 45-degree angle\n",
    "  this.y += this.speed * Math.sin(this.angle);\n",
    "  this.x += this.speed * Math.cos(this.angle);\n",
    "  // Rotate the coin slightly\n",
    "  this.angle += Math.random() * 0.05 - 0.025;\n",
    "  // If the coin goes off-screen, wrap it around to the top\n",
    "  if (this.y > canvas.height) {\n",
    "    this.y = Math.random() * -canvas.height;\n",
    "    this.x = Math.random() * canvas.width;\n",
    "  }\n",
    "}\n",
    "\n",
    "// Define the draw function for the Coin class\n",
    "Coin.prototype.draw = function() {\n",
    "  ctx.drawImage(this.image, this.x - this.size / 2, this.y - this.size / 2, this.size, this.size);\n",
    "}\n",
    "\n",
    "// Create a loop to update and draw the coins\n",
    "function loop() {\n",
    "  // Clear the canvas\n",
    "  ctx.fillStyle = '#ffffff';\n",
    "  ctx.fillRect(0, 0, canvas.width, canvas.height);\n",
    "\n",
    "  // Update and draw each coin from the pool\n",
    "  for (var i = 0; i < coinPool.length; i++) {\n",
    "    coinPool[i].update();\n",
    "    coinPool[i].draw();\n",
    "  }\n",
    "\n",
    "  // Repeat the loop\n",
    "  requestAnimationFrame(loop);\n",
    "}\n",
    "\n",
    "// Start the loop\n",
    "loop();\n",
    "\n",
    "// Add an event listener to resize the canvas when the window is resized\n",
    "window.addEventListener('resize', function() {\n",
    "  canvas.width = window.innerWidth;\n",
    "  canvas.height = window.innerHeight;\n",
    "\n",
    "  // Adjust the position of the coins when the canvas is resized\n",
    "  for (var i = 0; i < coinPool.length; i++) {\n",
    "    if (coinPool[i].x > canvas.width) {\n",
    "      coinPool[i].x = canvas.width;\n",
    "    }\n",
    "    if (coinPool[i].y > canvas.height) {\n",
    "      coinPool[i].y = canvas.height;\n",
    "    }\n",
    "  }\n",
    "});"
   ]
  },
  {
   "cell_type": "code",
   "execution_count": null,
   "id": "ac825b99",
   "metadata": {},
   "outputs": [],
   "source": []
  }
 ],
 "metadata": {
  "kernelspec": {
   "display_name": "Python 3 (ipykernel)",
   "language": "python",
   "name": "python3"
  },
  "language_info": {
   "codemirror_mode": {
    "name": "ipython",
    "version": 3
   },
   "file_extension": ".py",
   "mimetype": "text/x-python",
   "name": "python",
   "nbconvert_exporter": "python",
   "pygments_lexer": "ipython3",
   "version": "3.9.12"
  }
 },
 "nbformat": 4,
 "nbformat_minor": 5
}
