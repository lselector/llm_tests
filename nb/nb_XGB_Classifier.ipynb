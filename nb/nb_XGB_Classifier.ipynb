{
 "cells": [
  {
   "cell_type": "markdown",
   "id": "6ec4e41f",
   "metadata": {},
   "source": [
    "### nb_ChatGPT_XGBoost_Classifier"
   ]
  },
  {
   "cell_type": "markdown",
   "id": "947b0901",
   "metadata": {},
   "source": [
    "Use XGBoost Classifier with sklearn interface in python.\n",
    "\n",
    "Use make_classification() to generate 10,000 rows of synthetic data\n",
    "<br>with 6 numeric features and one binary target.\n",
    "\n",
    "Split data into train/test.\n",
    "<br>train the model - and evaluate the accuracy"
   ]
  },
  {
   "cell_type": "code",
   "execution_count": 1,
   "id": "f86d2ac4",
   "metadata": {},
   "outputs": [],
   "source": [
    "import os, pickle\n",
    "import numpy as np\n",
    "import pandas as pd\n",
    "from sklearn.datasets import make_classification\n",
    "from sklearn.model_selection import train_test_split\n",
    "import xgboost as xgb"
   ]
  },
  {
   "cell_type": "code",
   "execution_count": 2,
   "id": "b5b4a5a1",
   "metadata": {},
   "outputs": [],
   "source": [
    "# Generate synthetic data with 5 numeric features and one binary target\n",
    "X, y = make_classification(n_samples=10000, n_features=6, n_informative=3, n_redundant=1, \n",
    "                           flip_y=0.1, random_state=123)"
   ]
  },
  {
   "cell_type": "code",
   "execution_count": 3,
   "id": "5bad7f21",
   "metadata": {},
   "outputs": [],
   "source": [
    "# Split the data into train and test sets\n",
    "X_train, X_test, y_train, y_test = train_test_split(X, y, test_size=0.2, random_state=123)"
   ]
  },
  {
   "cell_type": "code",
   "execution_count": 4,
   "id": "6c6c7b23",
   "metadata": {},
   "outputs": [],
   "source": [
    "# Train an XGBoost classifier using the default hyperparameters\n",
    "model = xgb.XGBClassifier()"
   ]
  },
  {
   "cell_type": "code",
   "execution_count": 5,
   "id": "3144aa7d",
   "metadata": {},
   "outputs": [
    {
     "data": {
      "text/html": [
       "<style>#sk-container-id-1 {color: black;background-color: white;}#sk-container-id-1 pre{padding: 0;}#sk-container-id-1 div.sk-toggleable {background-color: white;}#sk-container-id-1 label.sk-toggleable__label {cursor: pointer;display: block;width: 100%;margin-bottom: 0;padding: 0.3em;box-sizing: border-box;text-align: center;}#sk-container-id-1 label.sk-toggleable__label-arrow:before {content: \"▸\";float: left;margin-right: 0.25em;color: #696969;}#sk-container-id-1 label.sk-toggleable__label-arrow:hover:before {color: black;}#sk-container-id-1 div.sk-estimator:hover label.sk-toggleable__label-arrow:before {color: black;}#sk-container-id-1 div.sk-toggleable__content {max-height: 0;max-width: 0;overflow: hidden;text-align: left;background-color: #f0f8ff;}#sk-container-id-1 div.sk-toggleable__content pre {margin: 0.2em;color: black;border-radius: 0.25em;background-color: #f0f8ff;}#sk-container-id-1 input.sk-toggleable__control:checked~div.sk-toggleable__content {max-height: 200px;max-width: 100%;overflow: auto;}#sk-container-id-1 input.sk-toggleable__control:checked~label.sk-toggleable__label-arrow:before {content: \"▾\";}#sk-container-id-1 div.sk-estimator input.sk-toggleable__control:checked~label.sk-toggleable__label {background-color: #d4ebff;}#sk-container-id-1 div.sk-label input.sk-toggleable__control:checked~label.sk-toggleable__label {background-color: #d4ebff;}#sk-container-id-1 input.sk-hidden--visually {border: 0;clip: rect(1px 1px 1px 1px);clip: rect(1px, 1px, 1px, 1px);height: 1px;margin: -1px;overflow: hidden;padding: 0;position: absolute;width: 1px;}#sk-container-id-1 div.sk-estimator {font-family: monospace;background-color: #f0f8ff;border: 1px dotted black;border-radius: 0.25em;box-sizing: border-box;margin-bottom: 0.5em;}#sk-container-id-1 div.sk-estimator:hover {background-color: #d4ebff;}#sk-container-id-1 div.sk-parallel-item::after {content: \"\";width: 100%;border-bottom: 1px solid gray;flex-grow: 1;}#sk-container-id-1 div.sk-label:hover label.sk-toggleable__label {background-color: #d4ebff;}#sk-container-id-1 div.sk-serial::before {content: \"\";position: absolute;border-left: 1px solid gray;box-sizing: border-box;top: 0;bottom: 0;left: 50%;z-index: 0;}#sk-container-id-1 div.sk-serial {display: flex;flex-direction: column;align-items: center;background-color: white;padding-right: 0.2em;padding-left: 0.2em;position: relative;}#sk-container-id-1 div.sk-item {position: relative;z-index: 1;}#sk-container-id-1 div.sk-parallel {display: flex;align-items: stretch;justify-content: center;background-color: white;position: relative;}#sk-container-id-1 div.sk-item::before, #sk-container-id-1 div.sk-parallel-item::before {content: \"\";position: absolute;border-left: 1px solid gray;box-sizing: border-box;top: 0;bottom: 0;left: 50%;z-index: -1;}#sk-container-id-1 div.sk-parallel-item {display: flex;flex-direction: column;z-index: 1;position: relative;background-color: white;}#sk-container-id-1 div.sk-parallel-item:first-child::after {align-self: flex-end;width: 50%;}#sk-container-id-1 div.sk-parallel-item:last-child::after {align-self: flex-start;width: 50%;}#sk-container-id-1 div.sk-parallel-item:only-child::after {width: 0;}#sk-container-id-1 div.sk-dashed-wrapped {border: 1px dashed gray;margin: 0 0.4em 0.5em 0.4em;box-sizing: border-box;padding-bottom: 0.4em;background-color: white;}#sk-container-id-1 div.sk-label label {font-family: monospace;font-weight: bold;display: inline-block;line-height: 1.2em;}#sk-container-id-1 div.sk-label-container {text-align: center;}#sk-container-id-1 div.sk-container {/* jupyter's `normalize.less` sets `[hidden] { display: none; }` but bootstrap.min.css set `[hidden] { display: none !important; }` so we also need the `!important` here to be able to override the default hidden behavior on the sphinx rendered scikit-learn.org. See: https://github.com/scikit-learn/scikit-learn/issues/21755 */display: inline-block !important;position: relative;}#sk-container-id-1 div.sk-text-repr-fallback {display: none;}</style><div id=\"sk-container-id-1\" class=\"sk-top-container\"><div class=\"sk-text-repr-fallback\"><pre>XGBClassifier(base_score=0.5, booster=&#x27;gbtree&#x27;, callbacks=None,\n",
       "              colsample_bylevel=1, colsample_bynode=1, colsample_bytree=1,\n",
       "              early_stopping_rounds=None, enable_categorical=False,\n",
       "              eval_metric=None, gamma=0, gpu_id=-1, grow_policy=&#x27;depthwise&#x27;,\n",
       "              importance_type=None, interaction_constraints=&#x27;&#x27;,\n",
       "              learning_rate=0.300000012, max_bin=256, max_cat_to_onehot=4,\n",
       "              max_delta_step=0, max_depth=6, max_leaves=0, min_child_weight=1,\n",
       "              missing=nan, monotone_constraints=&#x27;()&#x27;, n_estimators=100,\n",
       "              n_jobs=0, num_parallel_tree=1, predictor=&#x27;auto&#x27;, random_state=0,\n",
       "              reg_alpha=0, reg_lambda=1, ...)</pre><b>In a Jupyter environment, please rerun this cell to show the HTML representation or trust the notebook. <br />On GitHub, the HTML representation is unable to render, please try loading this page with nbviewer.org.</b></div><div class=\"sk-container\" hidden><div class=\"sk-item\"><div class=\"sk-estimator sk-toggleable\"><input class=\"sk-toggleable__control sk-hidden--visually\" id=\"sk-estimator-id-1\" type=\"checkbox\" checked><label for=\"sk-estimator-id-1\" class=\"sk-toggleable__label sk-toggleable__label-arrow\">XGBClassifier</label><div class=\"sk-toggleable__content\"><pre>XGBClassifier(base_score=0.5, booster=&#x27;gbtree&#x27;, callbacks=None,\n",
       "              colsample_bylevel=1, colsample_bynode=1, colsample_bytree=1,\n",
       "              early_stopping_rounds=None, enable_categorical=False,\n",
       "              eval_metric=None, gamma=0, gpu_id=-1, grow_policy=&#x27;depthwise&#x27;,\n",
       "              importance_type=None, interaction_constraints=&#x27;&#x27;,\n",
       "              learning_rate=0.300000012, max_bin=256, max_cat_to_onehot=4,\n",
       "              max_delta_step=0, max_depth=6, max_leaves=0, min_child_weight=1,\n",
       "              missing=nan, monotone_constraints=&#x27;()&#x27;, n_estimators=100,\n",
       "              n_jobs=0, num_parallel_tree=1, predictor=&#x27;auto&#x27;, random_state=0,\n",
       "              reg_alpha=0, reg_lambda=1, ...)</pre></div></div></div></div></div>"
      ],
      "text/plain": [
       "XGBClassifier(base_score=0.5, booster='gbtree', callbacks=None,\n",
       "              colsample_bylevel=1, colsample_bynode=1, colsample_bytree=1,\n",
       "              early_stopping_rounds=None, enable_categorical=False,\n",
       "              eval_metric=None, gamma=0, gpu_id=-1, grow_policy='depthwise',\n",
       "              importance_type=None, interaction_constraints='',\n",
       "              learning_rate=0.300000012, max_bin=256, max_cat_to_onehot=4,\n",
       "              max_delta_step=0, max_depth=6, max_leaves=0, min_child_weight=1,\n",
       "              missing=nan, monotone_constraints='()', n_estimators=100,\n",
       "              n_jobs=0, num_parallel_tree=1, predictor='auto', random_state=0,\n",
       "              reg_alpha=0, reg_lambda=1, ...)"
      ]
     },
     "execution_count": 5,
     "metadata": {},
     "output_type": "execute_result"
    }
   ],
   "source": [
    "model.fit(X_train, y_train)"
   ]
  },
  {
   "cell_type": "code",
   "execution_count": 6,
   "id": "01c32faf",
   "metadata": {},
   "outputs": [
    {
     "name": "stdout",
     "output_type": "stream",
     "text": [
      "Accuracy: 0.837\n"
     ]
    }
   ],
   "source": [
    "# Evaluate the accuracy of the model on the test set\n",
    "acc = model.score(X_test, y_test)\n",
    "print(f\"Accuracy: {acc:.3f}\")"
   ]
  },
  {
   "cell_type": "code",
   "execution_count": 7,
   "id": "ece32623",
   "metadata": {},
   "outputs": [],
   "source": [
    "# define the grid of parameters we will be testing\n",
    "# Note in original testing I had more values, \n",
    "# but I removed them as the accuracy was not good\n",
    "param_grid = {\n",
    "    'max_depth'    : [3,5,7,10,14],       # default 6\n",
    "    'learning_rate': [0.2, 0.1],          # removed 0.01\n",
    "    'subsample'    : [0.7],               # default 1\n",
    "    'n_estimators' : [100,200,300]        # default 100\n",
    "}"
   ]
  },
  {
   "cell_type": "code",
   "execution_count": 8,
   "id": "e027b8a6",
   "metadata": {},
   "outputs": [
    {
     "name": "stdout",
     "output_type": "stream",
     "text": [
      "  1 : max_depth: 3,learn_rate:0.200,subsample:0.7,n_estim:100: {'acc': 0.84, 'kb': 116}      \n",
      "  2 : max_depth: 3,learn_rate:0.200,subsample:0.7,n_estim:200: {'acc': 0.842, 'kb': 226}     \n",
      "  3 : max_depth: 3,learn_rate:0.200,subsample:0.7,n_estim:300: {'acc': 0.8325, 'kb': 338}    \n",
      "  4 : max_depth: 3,learn_rate:0.100,subsample:0.7,n_estim:100: {'acc': 0.838, 'kb': 117}     \n",
      "  5 : max_depth: 3,learn_rate:0.100,subsample:0.7,n_estim:200: {'acc': 0.8425, 'kb': 226}    \n",
      "  6 : max_depth: 3,learn_rate:0.100,subsample:0.7,n_estim:300: {'acc': 0.841, 'kb': 337}     \n",
      "  7 : max_depth: 5,learn_rate:0.200,subsample:0.7,n_estim:100: {'acc': 0.848, 'kb': 217}     \n",
      "  8 : max_depth: 5,learn_rate:0.200,subsample:0.7,n_estim:200: {'acc': 0.842, 'kb': 424}     \n",
      "  9 : max_depth: 5,learn_rate:0.200,subsample:0.7,n_estim:300: {'acc': 0.8395, 'kb': 630}    \n",
      " 10 : max_depth: 5,learn_rate:0.100,subsample:0.7,n_estim:100: {'acc': 0.856, 'kb': 224}     \n",
      " 11 : max_depth: 5,learn_rate:0.100,subsample:0.7,n_estim:200: {'acc': 0.85, 'kb': 428}      \n",
      " 12 : max_depth: 5,learn_rate:0.100,subsample:0.7,n_estim:300: {'acc': 0.8485, 'kb': 634}    \n",
      " 13 : max_depth: 7,learn_rate:0.200,subsample:0.7,n_estim:100: {'acc': 0.85, 'kb': 395}      \n",
      " 14 : max_depth: 7,learn_rate:0.200,subsample:0.7,n_estim:200: {'acc': 0.843, 'kb': 751}     \n",
      " 15 : max_depth: 7,learn_rate:0.200,subsample:0.7,n_estim:300: {'acc': 0.8365, 'kb': 1094}   \n",
      " 16 : max_depth: 7,learn_rate:0.100,subsample:0.7,n_estim:100: {'acc': 0.8505, 'kb': 415}    \n",
      " 17 : max_depth: 7,learn_rate:0.100,subsample:0.7,n_estim:200: {'acc': 0.85, 'kb': 774}      \n",
      " 18 : max_depth: 7,learn_rate:0.100,subsample:0.7,n_estim:300: {'acc': 0.845, 'kb': 1141}    \n",
      " 19 : max_depth:10,learn_rate:0.200,subsample:0.7,n_estim:100: {'acc': 0.847, 'kb': 706}     \n",
      " 20 : max_depth:10,learn_rate:0.200,subsample:0.7,n_estim:200: {'acc': 0.8425, 'kb': 1268}   \n",
      " 21 : max_depth:10,learn_rate:0.200,subsample:0.7,n_estim:300: {'acc': 0.838, 'kb': 1689}    \n",
      " 22 : max_depth:10,learn_rate:0.100,subsample:0.7,n_estim:100: {'acc': 0.855, 'kb': 793}     \n",
      " 23 : max_depth:10,learn_rate:0.100,subsample:0.7,n_estim:200: {'acc': 0.8505, 'kb': 1437}   \n",
      " 24 : max_depth:10,learn_rate:0.100,subsample:0.7,n_estim:300: {'acc': 0.8485, 'kb': 2003}   \n",
      " 25 : max_depth:14,learn_rate:0.200,subsample:0.7,n_estim:100: {'acc': 0.8425, 'kb': 1037}   \n",
      " 26 : max_depth:14,learn_rate:0.200,subsample:0.7,n_estim:200: {'acc': 0.841, 'kb': 1610}    \n",
      " 27 : max_depth:14,learn_rate:0.200,subsample:0.7,n_estim:300: {'acc': 0.84, 'kb': 2012}     \n",
      " 28 : max_depth:14,learn_rate:0.100,subsample:0.7,n_estim:100: {'acc': 0.8565, 'kb': 1242}   \n",
      " 29 : max_depth:14,learn_rate:0.100,subsample:0.7,n_estim:200: {'acc': 0.8465, 'kb': 2055}   \n",
      " 30 : max_depth:14,learn_rate:0.100,subsample:0.7,n_estim:300: {'acc': 0.845, 'kb': 2688}    \n"
     ]
    }
   ],
   "source": [
    "results = {}\n",
    "ii=0\n",
    "for max_depth in param_grid['max_depth']:\n",
    "    for learning_rate in param_grid['learning_rate']:\n",
    "        for subsample in param_grid['subsample']:\n",
    "            for n_estimators in param_grid['n_estimators']:\n",
    "                ii += 1\n",
    "                xgb_model = xgb.XGBClassifier( \n",
    "                                             random_state=42,\n",
    "                                             max_depth=max_depth,\n",
    "                                             learning_rate=learning_rate,\n",
    "                                             subsample=subsample,\n",
    "                                             n_estimators=n_estimators\n",
    "                                            )\n",
    "                ss = f\"max_depth:{max_depth:2d},learn_rate:{learning_rate:5.3f}\"\n",
    "                ss +=f\",subsample:{subsample:3.1f},n_estim:{n_estimators:3d}\"\n",
    "                # print(f\"training {ss}\",)\n",
    "                xgb_model.fit(X_train, y_train)\n",
    "                y_pred = xgb_model.predict(X_test)\n",
    "                acc = xgb_model.score(X_test, y_test)\n",
    "                fname = 'junk.pkl'\n",
    "                with open(fname, 'wb') as f:\n",
    "                    pickle.dump(xgb_model, f)\n",
    "                fsize_kb = round(os.path.getsize(fname) / 1024.0)\n",
    "                results[ss] = {'acc':acc,'kb':fsize_kb}\n",
    "                print(f\"{ii:3} : {str(ss):25}: {str(results[ss]):30}\")"
   ]
  },
  {
   "cell_type": "code",
   "execution_count": 9,
   "id": "ad23d32d",
   "metadata": {},
   "outputs": [
    {
     "name": "stdout",
     "output_type": "stream",
     "text": [
      "max_depth: 5,learn_rate:0.100,subsample:0.7,n_estim:100 => {'acc': 0.856, 'kb': 224}\n",
      "max_depth: 7,learn_rate:0.100,subsample:0.7,n_estim:100 => {'acc': 0.8505, 'kb': 415}\n",
      "max_depth:10,learn_rate:0.100,subsample:0.7,n_estim:100 => {'acc': 0.855, 'kb': 793}\n",
      "max_depth:10,learn_rate:0.100,subsample:0.7,n_estim:200 => {'acc': 0.8505, 'kb': 1437}\n",
      "max_depth:14,learn_rate:0.100,subsample:0.7,n_estim:100 => {'acc': 0.8565, 'kb': 1242}\n"
     ]
    }
   ],
   "source": [
    "# Let us only consider entries where acc > 0.895\n",
    "\n",
    "# --------------------------------------------\n",
    "def parse_key(ss):\n",
    "    \"\"\" convenient to filter by some grid parameters\"\"\"\n",
    "    dd = {}\n",
    "    for part in ss.split(\",\"):\n",
    "        kk,vv = part.split(\":\")\n",
    "        dd[kk] = float(vv)\n",
    "    return dd\n",
    "\n",
    "# --------------------------------------------\n",
    "res2 = {}\n",
    "for k,v in results.items():\n",
    "    acc = v['acc']\n",
    "    kb = v['kb']\n",
    "    if acc <= 0.85:\n",
    "        continue\n",
    "    res2[k] = v\n",
    "    print(f\"{k} => {v}\")"
   ]
  },
  {
   "cell_type": "code",
   "execution_count": 10,
   "id": "ff4afdb7",
   "metadata": {},
   "outputs": [],
   "source": [
    "# Interesting - the quality of the model is not very sensitive to the parameters.\n",
    "# the good choice with good accurac and small model size:\n",
    "# max_depth: 5,learn_rate:0.100,subsample:0.7,n_estim:100 \n",
    "# => {'acc': 0.856, 'kb': 224}"
   ]
  }
 ],
 "metadata": {
  "kernelspec": {
   "display_name": "Python 3 (ipykernel)",
   "language": "python",
   "name": "python3"
  },
  "language_info": {
   "codemirror_mode": {
    "name": "ipython",
    "version": 3
   },
   "file_extension": ".py",
   "mimetype": "text/x-python",
   "name": "python",
   "nbconvert_exporter": "python",
   "pygments_lexer": "ipython3",
   "version": "3.9.12"
  }
 },
 "nbformat": 4,
 "nbformat_minor": 5
}
