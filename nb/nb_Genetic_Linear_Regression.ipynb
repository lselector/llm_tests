{
 "cells": [
  {
   "cell_type": "markdown",
   "id": "caa4f1ed",
   "metadata": {},
   "source": [
    "### Genetic algorithms can be used for linear regression. \n",
    "\n",
    "Model parameters (intercept and slope coefficients) \n",
    "are represented as strings of binary digits called chromosomes. \n",
    "\n",
    "These chromosomes are then subjected to genetic operations such as crossover and mutation to create new generations of potential solutions. \n",
    "\n",
    "The fitness of each solution is evaluated based on its ability to minimize the error between the predicted values and the actual values of the dependent variable.\n",
    "\n",
    "The genetic algorithm iteratively searches for the best combination of model parameters until a stopping criteria is met, such as the desired level of accuracy being achieved or a maximum number of iterations being reached.\n",
    "\n",
    "Overall, using a genetic algorithm for linear regression can be a powerful tool for finding the optimal parameters of a linear regression model, especially in cases where the dataset is large, or the number of possible parameter combinations is very large.\n",
    "\n",
    "Below is an example Python code demonstrating the use of genetic algorithm to solve linear regression problem:"
   ]
  },
  {
   "cell_type": "code",
   "execution_count": 1,
   "id": "13770dff",
   "metadata": {},
   "outputs": [],
   "source": [
    "import random\n",
    "import numpy as np\n",
    "import pandas as pd\n",
    "import matplotlib.pyplot as plt"
   ]
  },
  {
   "cell_type": "code",
   "execution_count": 2,
   "id": "777a5b9a",
   "metadata": {},
   "outputs": [],
   "source": [
    "# Define the genetic algorithm parameters\n",
    "POPULATION_SIZE = 100\n",
    "MUTATION_RATE = 0.1\n",
    "GENERATIONS = 50"
   ]
  },
  {
   "cell_type": "code",
   "execution_count": 3,
   "id": "9f981b72",
   "metadata": {},
   "outputs": [],
   "source": [
    "# Define the linear regression function\n",
    "def linear_regression(x, w):\n",
    "    y = np.dot(x, w[:-1]) + w[-1]\n",
    "    return y\n",
    "\n",
    "# Define the fitness function\n",
    "def fitness_function(x, y, w):\n",
    "    y_pred = linear_regression(x, w)\n",
    "    mse = np.mean(np.square(y - y_pred))\n",
    "    fitness = 1 / (mse + 1e-6)\n",
    "    return fitness\n",
    "\n",
    "# Initialize the population\n",
    "def init_population(population_size, chromosome_length):\n",
    "    population = []\n",
    "    for i in range(population_size):\n",
    "        chromosome = np.random.uniform(-1, 1, chromosome_length)\n",
    "        population.append(chromosome)\n",
    "    return population\n",
    "\n",
    "# Perform selection using tournament selection\n",
    "def selection(population, fitness_scores):\n",
    "    selected = []\n",
    "    for i in range(len(population)):\n",
    "        competitors = np.random.choice(len(population), 2, replace=False)\n",
    "        fitness1, fitness2 = fitness_scores[competitors[0]], fitness_scores[competitors[1]]\n",
    "        if fitness1 > fitness2:\n",
    "            selected.append(population[competitors[0]])\n",
    "        else:\n",
    "            selected.append(population[competitors[1]])\n",
    "    return selected\n",
    "\n",
    "# Perform crossover using single point crossover\n",
    "def crossover(parent1, parent2):\n",
    "    crossover_point = random.randint(1, len(parent1) - 1)\n",
    "    child1 = np.concatenate((parent1[:crossover_point], parent2[crossover_point:]))\n",
    "    child2 = np.concatenate((parent2[:crossover_point], parent1[crossover_point:]))\n",
    "    return child1, child2\n",
    "\n",
    "# Perform mutation\n",
    "def mutation(chromosome, mutation_rate):\n",
    "    for i in range(len(chromosome)):\n",
    "        if random.random() < mutation_rate:\n",
    "            chromosome[i] = np.random.uniform(-1, 1)\n",
    "    return chromosome\n",
    "\n",
    "# Genetic algorithm main function\n",
    "def genetic_algorithm(x, y, population_size, mutation_rate, generations):\n",
    "    chromosome_length = x.shape[1] + 1\n",
    "    population = init_population(population_size, chromosome_length)\n",
    "    best_fitnesses = []\n",
    "    best_chromosomes = []\n",
    "    for generation in range(generations):\n",
    "        fitness_scores = [fitness_function(x, y, chromosome) for chromosome in population]\n",
    "        best_fitness = max(fitness_scores)\n",
    "        best_index = np.argmax(fitness_scores)\n",
    "        best_chromosome = population[best_index]\n",
    "        best_fitnesses.append(best_fitness)\n",
    "        best_chromosomes.append(best_chromosome)\n",
    "        selected = selection(population, fitness_scores)\n",
    "        offspring = []\n",
    "        for i in range(0, population_size, 2):\n",
    "            parent1, parent2 = selected[i], selected[i+1]\n",
    "            child1, child2 = crossover(parent1, parent2)\n",
    "            child1 = mutation(child1, mutation_rate)\n",
    "            child2 = mutation(child2, mutation_rate)\n",
    "            offspring.append(child1)\n",
    "            offspring.append(child2)\n",
    "        population = offspring\n",
    "    return best_chromosome, best_fitnesses, best_chromosomes"
   ]
  },
  {
   "cell_type": "code",
   "execution_count": 4,
   "id": "6fd9a4fc",
   "metadata": {},
   "outputs": [
    {
     "name": "stdout",
     "output_type": "stream",
     "text": [
      "(100, 5)\n",
      "[[-0.09169932 -0.61669349 -0.73623049  0.56201084 -0.94099707]\n",
      " [-0.63991     0.62730765  0.1296794  -0.83526945 -0.31403823]\n",
      " [-0.02149491 -0.45495555  0.86932204  0.18898398  0.50011022]]\n",
      "...\n"
     ]
    }
   ],
   "source": [
    "# Generate 5 numeric features \n",
    "# 100 rows, 5 numeric columns with values in range [-1,1]\n",
    "x = np.random.uniform(-1, 1, (100, 5))\n",
    "print(x.shape)\n",
    "print(x[:3,:])\n",
    "print(\"...\")"
   ]
  },
  {
   "cell_type": "code",
   "execution_count": 5,
   "id": "145d8518",
   "metadata": {},
   "outputs": [
    {
     "name": "stdout",
     "output_type": "stream",
     "text": [
      "(6,)\n",
      "[-0.70206382 -0.84564808 -0.07902739  0.38329168 -0.62096893  0.42197337]\n"
     ]
    }
   ],
   "source": [
    "# Generate TRUE weights\n",
    "w_true = np.random.uniform(-1, 1, 6)\n",
    "print(w_true.shape)\n",
    "print(w_true)"
   ]
  },
  {
   "cell_type": "code",
   "execution_count": 6,
   "id": "4d2b24b3",
   "metadata": {},
   "outputs": [
    {
     "name": "stdout",
     "output_type": "stream",
     "text": [
      "(100,)\n",
      "[ 1.86578421  0.20535745  0.51497927  0.24736826 -0.14990502]\n"
     ]
    }
   ],
   "source": [
    "# Calculate the target \"y\" column from the data \"x\"\n",
    "# using linear regressin model with coefficients \"w_true\"\n",
    "y = linear_regression(x, w_true)\n",
    "print(y.shape)\n",
    "print(y[:5])"
   ]
  },
  {
   "cell_type": "code",
   "execution_count": 7,
   "id": "62494023",
   "metadata": {},
   "outputs": [],
   "source": [
    "# Apply the genetic algorithm to calculate predicted weights\n",
    "w_pred, best_fitnesses, best_chromosomes = genetic_algorithm( \\\n",
    "             x, y, POPULATION_SIZE, MUTATION_RATE, GENERATIONS)"
   ]
  },
  {
   "cell_type": "code",
   "execution_count": 8,
   "id": "31c1b846",
   "metadata": {},
   "outputs": [
    {
     "name": "stdout",
     "output_type": "stream",
     "text": [
      "Weights:\n"
     ]
    },
    {
     "data": {
      "text/html": [
       "<div>\n",
       "<style scoped>\n",
       "    .dataframe tbody tr th:only-of-type {\n",
       "        vertical-align: middle;\n",
       "    }\n",
       "\n",
       "    .dataframe tbody tr th {\n",
       "        vertical-align: top;\n",
       "    }\n",
       "\n",
       "    .dataframe thead th {\n",
       "        text-align: right;\n",
       "    }\n",
       "</style>\n",
       "<table border=\"1\" class=\"dataframe\">\n",
       "  <thead>\n",
       "    <tr style=\"text-align: right;\">\n",
       "      <th></th>\n",
       "      <th>true</th>\n",
       "      <th>pred</th>\n",
       "    </tr>\n",
       "  </thead>\n",
       "  <tbody>\n",
       "    <tr>\n",
       "      <th>0</th>\n",
       "      <td>-0.702064</td>\n",
       "      <td>-0.720849</td>\n",
       "    </tr>\n",
       "    <tr>\n",
       "      <th>1</th>\n",
       "      <td>-0.845648</td>\n",
       "      <td>-0.855157</td>\n",
       "    </tr>\n",
       "    <tr>\n",
       "      <th>2</th>\n",
       "      <td>-0.079027</td>\n",
       "      <td>-0.083557</td>\n",
       "    </tr>\n",
       "    <tr>\n",
       "      <th>3</th>\n",
       "      <td>0.383292</td>\n",
       "      <td>0.376993</td>\n",
       "    </tr>\n",
       "    <tr>\n",
       "      <th>4</th>\n",
       "      <td>-0.620969</td>\n",
       "      <td>-0.608215</td>\n",
       "    </tr>\n",
       "    <tr>\n",
       "      <th>5</th>\n",
       "      <td>0.421973</td>\n",
       "      <td>0.404806</td>\n",
       "    </tr>\n",
       "  </tbody>\n",
       "</table>\n",
       "</div>"
      ],
      "text/plain": [
       "       true      pred\n",
       "0 -0.702064 -0.720849\n",
       "1 -0.845648 -0.855157\n",
       "2 -0.079027 -0.083557\n",
       "3  0.383292  0.376993\n",
       "4 -0.620969 -0.608215\n",
       "5  0.421973  0.404806"
      ]
     },
     "metadata": {},
     "output_type": "display_data"
    }
   ],
   "source": [
    "# Print the true and predicted weights\n",
    "df = pd.DataFrame({\"true\":w_true, \"pred\": w_pred})\n",
    "print(\"Weights:\")\n",
    "display(df)"
   ]
  },
  {
   "cell_type": "code",
   "execution_count": 9,
   "id": "a1740b40",
   "metadata": {},
   "outputs": [
    {
     "name": "stdout",
     "output_type": "stream",
     "text": [
      "Mean Squared Error = 0.0005\n"
     ]
    }
   ],
   "source": [
    "# Evaluate the performance of the predicted weights\n",
    "y_pred = linear_regression(x, np.append(w_pred[:-1], [w_pred[-1]]))\n",
    "mse = np.mean(np.square(y - y_pred))\n",
    "print(f\"Mean Squared Error = {mse:.4f}\")"
   ]
  },
  {
   "cell_type": "code",
   "execution_count": 10,
   "id": "39c9b8ec",
   "metadata": {},
   "outputs": [
    {
     "data": {
      "image/png": "[encoded data removed]",
      "text/plain": [
       "<Figure size 432x288 with 1 Axes>"
      ]
     },
     "metadata": {
      "needs_background": "light"
     },
     "output_type": "display_data"
    }
   ],
   "source": [
    "# Plot the best fitnesses over generations\n",
    "plt.plot(best_fitnesses)\n",
    "plt.xlabel('Generation')\n",
    "plt.ylabel('Best Fitness')\n",
    "plt.title('Genetic Algorithm Performance')\n",
    "plt.show()"
   ]
  },
  {
   "cell_type": "code",
   "execution_count": 11,
   "id": "fb0f2c85",
   "metadata": {},
   "outputs": [
    {
     "data": {
      "image/png": "[encoded data removed]",
      "text/plain": [
       "<Figure size 432x288 with 1 Axes>"
      ]
     },
     "metadata": {
      "needs_background": "light"
     },
     "output_type": "display_data"
    }
   ],
   "source": [
    "# Plot the actual data and the predicted values\n",
    "plt.scatter(y, y_pred)\n",
    "plt.plot([-2, 2], [-2, 2], color='red')\n",
    "plt.xlabel('Actual Values')\n",
    "plt.ylabel('Predicted Values')\n",
    "plt.title('Model Performance')\n",
    "plt.show()"
   ]
  },
  {
   "cell_type": "code",
   "execution_count": null,
   "id": "f28dd503",
   "metadata": {},
   "outputs": [],
   "source": []
  }
 ],
 "metadata": {
  "kernelspec": {
   "display_name": "Python 3 (ipykernel)",
   "language": "python",
   "name": "python3"
  },
  "language_info": {
   "codemirror_mode": {
    "name": "ipython",
    "version": 3
   },
   "file_extension": ".py",
   "mimetype": "text/x-python",
   "name": "python",
   "nbconvert_exporter": "python",
   "pygments_lexer": "ipython3",
   "version": "3.9.12"
  }
 },
 "nbformat": 4,
 "nbformat_minor": 5
}
