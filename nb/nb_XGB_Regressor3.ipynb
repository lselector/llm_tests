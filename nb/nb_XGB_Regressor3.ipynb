{
 "cells": [
  {
   "cell_type": "markdown",
   "id": "cf49e0e7",
   "metadata": {},
   "source": [
    "### XGBoost tuning using a custom two-parameter scorer\n",
    "\n",
    "\n",
    "ChatGPT couldn't solve this problem - so I had to tune it manually.\n",
    "<br><br>My prompt was:\n",
    "<br><font face=\"Courier\" color=\"#3333cc\">\n",
    "<br>Use XGBoost regressor with sklearn interface.\n",
    "<br>\n",
    "<br>Generate 10,000 rows of synthetic data with 5 numeric features \n",
    "<br>and add correlation between those features and the target column.\n",
    "<br>\n",
    "<br>Write python code to demonstrate the use of make_scorer from sklearn.metrics.\n",
    "<br>\n",
    "<br>Create a custom estimator function to evaluate combination of two results:\n",
    "<br>1. MSE (model error)\n",
    "<br>2. The size of model file\n",
    "<br>\n",
    "<br>Use parameter grid like this:\n",
    "<br>\n",
    "<br>param_grid = {\n",
    "<br>   'max_depth': [3, 5, 7],\n",
    "<br>   'learning_rate': [0.1, 0.01, 0.001],\n",
    "<br>   'subsample': [0.5, 0.7, 1],\n",
    "<br>   'n_estimators': [50, 100, 200]\n",
    "<br>}\n",
    "<br>\n",
    "<br>Make a 3D plot showing the score as function of MSE and size of the model\n",
    "</font>\n",
    "\n",
    "<br>Unfortunately the code creaed by ChatGPT was giving errors \n",
    "<br>that some parameters were missing.\n",
    "<br>So after several several attempts I had to dive into the code and fix it myself.\n",
    "<br>I couldn't figure out how to best use the GridSearchCV with make_scorer\n",
    "<br> so I simply wrote a for-loop myself"
   ]
  },
  {
   "cell_type": "code",
   "execution_count": 1,
   "id": "7c5d132e",
   "metadata": {},
   "outputs": [],
   "source": [
    "import os, pickle\n",
    "import numpy as np\n",
    "import xgboost as xgb\n",
    "from sklearn.datasets import make_regression\n",
    "from sklearn.metrics import mean_squared_error, r2_score\n",
    "from sklearn.model_selection import train_test_split\n",
    "from joblib import dump\n",
    "import matplotlib.pyplot as plt\n",
    "from mpl_toolkits.mplot3d import Axes3D"
   ]
  },
  {
   "cell_type": "code",
   "execution_count": 2,
   "id": "e0c6af80",
   "metadata": {},
   "outputs": [],
   "source": [
    "# Generate synthetic data with 5 numeric features \n",
    "# and add correlation between those features and the target column\n",
    "X, y = make_regression(n_samples=10000, n_features=5, noise=0.1, random_state=42)\n",
    "for i in range(X.shape[1]):\n",
    "    X[:, i] *= np.random.uniform(0.5, 1.5)\n",
    "    y += 0.2 * X[:, i]\n",
    "X_train, X_test, y_train, y_test = train_test_split(X, y, test_size=0.2, random_state=42)"
   ]
  },
  {
   "cell_type": "code",
   "execution_count": 5,
   "id": "095c23df",
   "metadata": {},
   "outputs": [],
   "source": [
    "# define the grid of parameters we will be testing\n",
    "# Note in original testing I had more values, \n",
    "# but I removed them as the accuracy was not good\n",
    "param_grid = {\n",
    "    'max_depth'    : [1,2,3,4,5,6], # default 6, removed  5,7,10\n",
    "    'learning_rate': [0.2, 0.1],    # removed 0.01\n",
    "    'subsample'    : [0.7],         # default 1, removed 0.5, 1\n",
    "    'n_estimators' : [200,300]      # default 100, removed 50, 100\n",
    "}"
   ]
  },
  {
   "cell_type": "code",
   "execution_count": 6,
   "id": "9ef3126f",
   "metadata": {},
   "outputs": [
    {
     "name": "stdout",
     "output_type": "stream",
     "text": [
      "  1 : max_depth: 1,learn_rate:0.200,subsample:0.7,n_estim:200: {'mse': 89.556, 'r2': 0.995, 'kb': 153}\n",
      "  2 : max_depth: 1,learn_rate:0.200,subsample:0.7,n_estim:300: {'mse': 73.679, 'r2': 0.996, 'kb': 227}\n",
      "  3 : max_depth: 1,learn_rate:0.100,subsample:0.7,n_estim:200: {'mse': 192.834, 'r2': 0.99, 'kb': 153}\n",
      "  4 : max_depth: 1,learn_rate:0.100,subsample:0.7,n_estim:300: {'mse': 73.994, 'r2': 0.996, 'kb': 227}\n",
      "  5 : max_depth: 2,learn_rate:0.200,subsample:0.7,n_estim:200: {'mse': 88.533, 'r2': 0.996, 'kb': 179}\n",
      "  6 : max_depth: 2,learn_rate:0.200,subsample:0.7,n_estim:300: {'mse': 70.998, 'r2': 0.996, 'kb': 266}\n",
      "  7 : max_depth: 2,learn_rate:0.100,subsample:0.7,n_estim:200: {'mse': 60.448, 'r2': 0.997, 'kb': 179}\n",
      "  8 : max_depth: 2,learn_rate:0.100,subsample:0.7,n_estim:300: {'mse': 48.322, 'r2': 0.998, 'kb': 265}\n",
      "  9 : max_depth: 3,learn_rate:0.200,subsample:0.7,n_estim:200: {'mse': 68.575, 'r2': 0.997, 'kb': 229}\n",
      " 10 : max_depth: 3,learn_rate:0.200,subsample:0.7,n_estim:300: {'mse': 55.451, 'r2': 0.997, 'kb': 341}\n",
      " 11 : max_depth: 3,learn_rate:0.100,subsample:0.7,n_estim:200: {'mse': 52.518, 'r2': 0.997, 'kb': 228}\n",
      " 12 : max_depth: 3,learn_rate:0.100,subsample:0.7,n_estim:300: {'mse': 41.587, 'r2': 0.998, 'kb': 340}\n",
      " 13 : max_depth: 4,learn_rate:0.200,subsample:0.7,n_estim:200: {'mse': 66.815, 'r2': 0.997, 'kb': 320}\n",
      " 14 : max_depth: 4,learn_rate:0.200,subsample:0.7,n_estim:300: {'mse': 60.215, 'r2': 0.997, 'kb': 480}\n",
      " 15 : max_depth: 4,learn_rate:0.100,subsample:0.7,n_estim:200: {'mse': 53.55, 'r2': 0.997, 'kb': 318}\n",
      " 16 : max_depth: 4,learn_rate:0.100,subsample:0.7,n_estim:300: {'mse': 45.641, 'r2': 0.998, 'kb': 476}\n",
      " 17 : max_depth: 5,learn_rate:0.200,subsample:0.7,n_estim:200: {'mse': 77.063, 'r2': 0.996, 'kb': 481}\n",
      " 18 : max_depth: 5,learn_rate:0.200,subsample:0.7,n_estim:300: {'mse': 72.929, 'r2': 0.996, 'kb': 721}\n",
      " 19 : max_depth: 5,learn_rate:0.100,subsample:0.7,n_estim:200: {'mse': 51.276, 'r2': 0.997, 'kb': 481}\n",
      " 20 : max_depth: 5,learn_rate:0.100,subsample:0.7,n_estim:300: {'mse': 47.297, 'r2': 0.998, 'kb': 719}\n",
      " 21 : max_depth: 6,learn_rate:0.200,subsample:0.7,n_estim:200: {'mse': 75.475, 'r2': 0.996, 'kb': 732}\n",
      " 22 : max_depth: 6,learn_rate:0.200,subsample:0.7,n_estim:300: {'mse': 73.293, 'r2': 0.996, 'kb': 1096}\n",
      " 23 : max_depth: 6,learn_rate:0.100,subsample:0.7,n_estim:200: {'mse': 51.117, 'r2': 0.997, 'kb': 740}\n",
      " 24 : max_depth: 6,learn_rate:0.100,subsample:0.7,n_estim:300: {'mse': 48.084, 'r2': 0.998, 'kb': 1104}\n"
     ]
    }
   ],
   "source": [
    "results = {}\n",
    "ii=0\n",
    "for max_depth in param_grid['max_depth']:\n",
    "    for learning_rate in param_grid['learning_rate']:\n",
    "        for subsample in param_grid['subsample']:\n",
    "            for n_estimators in param_grid['n_estimators']:\n",
    "                ii += 1\n",
    "                xgb_model = xgb.XGBRegressor(objective='reg:squarederror', \n",
    "                                             random_state=42,\n",
    "                                             max_depth=max_depth,\n",
    "                                             learning_rate=learning_rate,\n",
    "                                             subsample=subsample,\n",
    "                                             n_estimators=n_estimators\n",
    "                                            )\n",
    "                ss = f\"max_depth:{max_depth:2d},learn_rate:{learning_rate:5.3f}\"\n",
    "                ss +=f\",subsample:{subsample:3.1f},n_estim:{n_estimators:3d}\"\n",
    "                # print(f\"training {ss}\",)\n",
    "                xgb_model.fit(X_train, y_train)\n",
    "                y_pred = xgb_model.predict(X_test)\n",
    "                mse = round(mean_squared_error(y_test, y_pred),3)\n",
    "                r2 = round(r2_score(y_test, y_pred),3)\n",
    "                fname = 'junk.pkl'\n",
    "                with open(fname, 'wb') as f:\n",
    "                    pickle.dump(xgb_model, f)\n",
    "                fsize_kb = round(os.path.getsize(fname) / 1024.0)\n",
    "                results[ss] = {'mse':mse,'r2':r2,'kb':fsize_kb}\n",
    "                print(f\"{ii:3} : {str(ss):25}: {str(results[ss]):30}\")"
   ]
  },
  {
   "cell_type": "code",
   "execution_count": 7,
   "id": "07125c9a",
   "metadata": {},
   "outputs": [
    {
     "name": "stdout",
     "output_type": "stream",
     "text": [
      "max_depth: 3,learn_rate:0.100,subsample:0.7,n_estim:300 => {'mse': 41.587, 'r2': 0.998, 'kb': 340}\n",
      "max_depth: 4,learn_rate:0.100,subsample:0.7,n_estim:300 => {'mse': 45.641, 'r2': 0.998, 'kb': 476}\n",
      "max_depth: 5,learn_rate:0.100,subsample:0.7,n_estim:300 => {'mse': 47.297, 'r2': 0.998, 'kb': 719}\n"
     ]
    }
   ],
   "source": [
    "# Originall I saw mse in range 48 to 18,000\n",
    "# Now the range is smaller: 44 .. 101\n",
    "# because we removed some values from the grid\n",
    "# Let us only consider entries where mse < 48\n",
    "\n",
    "# --------------------------------------------\n",
    "def parse_key(ss):\n",
    "    \"\"\" convenient to filter by some grid parameters\"\"\"\n",
    "    dd = {}\n",
    "    for part in ss.split(\",\"):\n",
    "        kk,vv = part.split(\":\")\n",
    "        dd[kk] = float(vv)\n",
    "    return dd\n",
    "\n",
    "# --------------------------------------------\n",
    "res2 = {}\n",
    "for k,v in results.items():\n",
    "    mse = v['mse']\n",
    "    kb = v['kb']\n",
    "    if mse >= 48:\n",
    "        continue\n",
    "    res2[k] = v\n",
    "    print(f\"{k} => {v}\")"
   ]
  },
  {
   "cell_type": "code",
   "execution_count": 6,
   "id": "2db8bb19",
   "metadata": {},
   "outputs": [],
   "source": [
    "# We have a clear winner:\n",
    "#     max_depth: 3,learn_rate:0.100,subsample:0.7,n_estim:300 \n",
    "#       => {'mse': 41.688, 'r2': 0.998, 'kb': 340}\n",
    "# Interesting how we get the best accuracy \n",
    "# from very shallow trees (depth = 3), \n",
    "# but we use a lot of trees."
   ]
  },
  {
   "cell_type": "code",
   "execution_count": null,
   "id": "defc6b4d",
   "metadata": {},
   "outputs": [],
   "source": []
  }
 ],
 "metadata": {
  "kernelspec": {
   "display_name": "Python 3 (ipykernel)",
   "language": "python",
   "name": "python3"
  },
  "language_info": {
   "codemirror_mode": {
    "name": "ipython",
    "version": 3
   },
   "file_extension": ".py",
   "mimetype": "text/x-python",
   "name": "python",
   "nbconvert_exporter": "python",
   "pygments_lexer": "ipython3",
   "version": "3.9.12"
  }
 },
 "nbformat": 4,
 "nbformat_minor": 5
}
