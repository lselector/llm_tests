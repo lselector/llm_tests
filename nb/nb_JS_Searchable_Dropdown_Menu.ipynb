{
 "cells": [
  {
   "cell_type": "markdown",
   "id": "cb548de9",
   "metadata": {},
   "source": [
    "## ChatGPT writes Javascript for a Searchable Dropdown Menu."
   ]
  },
  {
   "cell_type": "markdown",
   "id": "2e7588d7",
   "metadata": {},
   "source": [
    "```\n",
    "prompt:\n",
    "\n",
    "Write Javascript code for a searcheable drop-down menu.\n",
    "The menu contains 20 items.\n",
    "Each item consists of an image and a name.\n",
    "In our case the items are crypto currencies.\n",
    "So images are coin symbols (svg files), \n",
    "and names consist of two parts - crypto symbol and crypto name.\n",
    "\n",
    "By default, the menu is closed and we see only one item.\n",
    "When we click on the item - the scrollable menu drops down.\n",
    "\n",
    "When we start typing something - the list of drop down items \n",
    "changes to show only items matching what you have typed. \n",
    "\n",
    "The match may be anywhere in the middle of the item.\n",
    "\n",
    "Please do not use any modern frameworks.\n",
    "```"
   ]
  },
  {
   "cell_type": "markdown",
   "id": "d261374d",
   "metadata": {},
   "source": [
    "### HTML:"
   ]
  },
  {
   "cell_type": "raw",
   "id": "f2f82441",
   "metadata": {},
   "source": [
    "<!DOCTYPE html>\n",
    "<html lang=\"en\">\n",
    "<head>\n",
    "    <meta charset=\"UTF-8\">\n",
    "    <meta name=\"viewport\" content=\"width=device-width, initial-scale=1.0\">\n",
    "    <title>Searchable Dropdown Menu</title>\n",
    "    <link rel=\"stylesheet\" href=\"styles.css\">\n",
    "</head>\n",
    "<body>\n",
    "    <div class=\"dropdown-container\">\n",
    "        <div class=\"selected-item\" onclick=\"toggleDropdown()\">\n",
    "            <img src=\"path/to/default-image.svg\" alt=\"Default Crypto\" class=\"item-image\">\n",
    "            <span class=\"item-text\">Select Crypto</span>\n",
    "        </div>\n",
    "        <input type=\"text\" id=\"search\" class=\"search-input\" oninput=\"filterItems()\" placeholder=\"Search\" style=\"display:none\">\n",
    "        <div class=\"dropdown-menu\" id=\"dropdown\" style=\"display:none\">\n",
    "            <!-- Items will be generated here -->\n",
    "        </div>\n",
    "    </div>\n",
    "    <script src=\"scripts.js\"></script>\n",
    "</body>\n",
    "</html>"
   ]
  },
  {
   "cell_type": "markdown",
   "id": "24fe02d8",
   "metadata": {},
   "source": [
    "### CSS (styles.css):"
   ]
  },
  {
   "cell_type": "raw",
   "id": "15620c7a",
   "metadata": {},
   "source": [
    "body {\n",
    "    font-family: Arial, sans-serif;\n",
    "}\n",
    "\n",
    ".dropdown-container {\n",
    "    position: relative;\n",
    "    width: 300px;\n",
    "}\n",
    "\n",
    ".selected-item, .dropdown-item {\n",
    "    display: flex;\n",
    "    align-items: center;\n",
    "    cursor: pointer;\n",
    "}\n",
    "\n",
    ".selected-item {\n",
    "    background-color: #f1f1f1;\n",
    "    padding: 8px;\n",
    "}\n",
    "\n",
    ".item-image {\n",
    "    width: 24px;\n",
    "    height: 24px;\n",
    "    margin-right: 8px;\n",
    "}\n",
    "\n",
    ".dropdown-menu {\n",
    "    position: absolute;\n",
    "    width: 100%;\n",
    "    background-color: #f1f1f1;\n",
    "    max-height: 200px;\n",
    "    overflow-y: auto;\n",
    "    z-index: 99;\n",
    "}\n",
    "\n",
    ".dropdown-item:hover {\n",
    "    background-color: #ddd;\n",
    "}\n",
    "\n",
    ".search-input {\n",
    "    width: 100%;\n",
    "    box-sizing: border-box;\n",
    "    padding: 8px;\n",
    "}"
   ]
  },
  {
   "cell_type": "markdown",
   "id": "b35fb4a3",
   "metadata": {},
   "source": [
    "### JavaScript (scripts.js):"
   ]
  },
  {
   "cell_type": "raw",
   "id": "9912374c",
   "metadata": {},
   "source": [
    "const cryptocurrencies = [\n",
    "    {symbol: 'BTC', name: 'Bitcoin', img: 'path/to/bitcoin.svg'},\n",
    "    // ... Add more cryptocurrencies here\n",
    "];\n",
    "\n",
    "function createDropdownItem(coin) {\n",
    "    const item = document.createElement('div');\n",
    "    item.classList.add('dropdown-item');\n",
    "    item.innerHTML = `\n",
    "        <img src=\"${coin.img}\" alt=\"${coin.symbol}\" class=\"item-image\">\n",
    "        <span class=\"item-text\">${coin.symbol} - ${coin.name}</span>\n",
    "    `;\n",
    "    item.addEventListener('click', function () {\n",
    "        selectCrypto(coin);\n",
    "    });\n",
    "    return item;\n",
    "}\n",
    "\n",
    "function populateDropdown() {\n",
    "    const dropdown = document.getElementById('dropdown');\n",
    "    cryptocurrencies.forEach(coin => {\n",
    "        const item = createDropdownItem(coin);\n",
    "        dropdown.appendChild(item);\n",
    "    });\n",
    "}\n",
    "\n",
    "function toggleDropdown() {\n",
    "    const dropdown = document.getElementById('dropdown');\n",
    "    const search = document.getElementById('search');\n",
    "    const display = dropdown.style.display === 'none' ? 'block' : 'none';\n",
    "    dropdown.style.display = display;\n",
    "    search.style.display = display;\n",
    "    if (display === 'block') {\n",
    "        search.focus();\n",
    "    }\n",
    "}\n",
    "\n",
    "function filterItems() {\n",
    "    const search = document.getElementById('search');\n",
    "    const searchTerm = search.value.toLowerCase();\n",
    "    const items = document.getElementsByClassName('dropdown-item');\n",
    "    Array.from(items).forEach(item => {\n",
    "        const text = item.innerText.toLowerCase();\n",
    "        if (text.includes(searchTerm)) {\n",
    "            item.style.display = 'flex';\n",
    "        } else {\n",
    "            item.style.display = 'none';\n",
    "        }\n",
    "    });\n",
    "}"
   ]
  },
  {
   "cell_type": "code",
   "execution_count": null,
   "id": "371d8050",
   "metadata": {},
   "outputs": [],
   "source": []
  }
 ],
 "metadata": {
  "kernelspec": {
   "display_name": "Python 3 (ipykernel)",
   "language": "python",
   "name": "python3"
  },
  "language_info": {
   "codemirror_mode": {
    "name": "ipython",
    "version": 3
   },
   "file_extension": ".py",
   "mimetype": "text/x-python",
   "name": "python",
   "nbconvert_exporter": "python",
   "pygments_lexer": "ipython3",
   "version": "3.9.12"
  }
 },
 "nbformat": 4,
 "nbformat_minor": 5
}
